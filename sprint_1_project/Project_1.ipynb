{
 "cells": [
  {
   "cell_type": "markdown",
   "metadata": {
    "id": "sRW85nPMDWKb"
   },
   "source": [
    "В этой части проекта вам нужно написать несколько SQL-запросов в Jupyter Notebook. Эти задания проверят вручную, и вы получите комментарии к составленным запросам. \n",
    "\n",
    "Необходимые данные находятся в таблицах схемы `stackoverflow`. Не забудьте подключиться к базе с помощью SQLAlchemy. Вспомните инструкцию из [урока про представление результатов](https://practicum.yandex.ru/learn/data-analyst-plus/courses/96ccbf7a-b65d-4f51-b5f3-18360ad1e301/sprints/6116/topics/27f7c9a7-a474-4a82-8392-b3f069b26f69/lessons/e12d84bb-ffa8-490c-8bde-0935d86ceccb/). Пример кода для подключения к базе и выгрузки результатов вы найдёте и в этой тетрадке. \n",
    "\n",
    "Некоторые задания включают дополнительные вопросы — не пропустите их. На часть вопросов можно ответить текстом, а для некоторых понадобится визуализация. Помните, что результат запроса можно выгрузить в датафрейм. \n",
    "\n",
    "Чтобы ожидаемый результат было легче представить, мы добавили к каждому заданию небольшой фрагмент итоговой таблицы. В запросах вы можете использовать любые подходящие названия полей."
   ]
  },
  {
   "cell_type": "code",
   "execution_count": 1,
   "metadata": {
    "id": "nlZBlglMDWKe"
   },
   "outputs": [],
   "source": [
    "import pandas as pd\n",
    "import seaborn as sns\n",
    "import matplotlib.pyplot as plt\n",
    "from sqlalchemy import create_engine "
   ]
  },
  {
   "cell_type": "markdown",
   "metadata": {
    "id": "XnOE3n28DWKg"
   },
   "source": [
    "### Конфигурация для подключения к базе данных `data-analyst-advanced-sql`\n",
    "Эта база данных содержит схему `stackoverflow`, с которой вы будете работать в проекте"
   ]
  },
  {
   "cell_type": "code",
   "execution_count": 2,
   "metadata": {
    "id": "6p-yGp7qDWKg"
   },
   "outputs": [],
   "source": [
    "db_config = {\n",
    "    'user': 'praktikum_student', # имя пользователя\n",
    "    'pwd': 'Sdf4$2;d-d30pp', # пароль\n",
    "    'host': 'rc1b-wcoijxj3yxfsf3fs.mdb.yandexcloud.net',\n",
    "    'port': 6432, # порт подключения\n",
    "    'db': 'data-analyst-advanced-sql' # название базы данных\n",
    "}  \n",
    "\n",
    "connection_string = 'postgresql://{}:{}@{}:{}/{}'.format(\n",
    "    db_config['user'],\n",
    "    db_config['pwd'],\n",
    "    db_config['host'],\n",
    "    db_config['port'],\n",
    "    db_config['db'],\n",
    ")"
   ]
  },
  {
   "cell_type": "markdown",
   "metadata": {
    "id": "2Rg8ZpS0DWKh"
   },
   "source": [
    "Создание подключения"
   ]
  },
  {
   "cell_type": "code",
   "execution_count": 3,
   "metadata": {
    "id": "DamCUTR6DWKi"
   },
   "outputs": [],
   "source": [
    "engine = create_engine(connection_string) "
   ]
  },
  {
   "cell_type": "markdown",
   "metadata": {
    "id": "bel8XeSlDWKj"
   },
   "source": [
    "Пример запроса к базе данных\n",
    "\n",
    "`sample_df` является pandas-датафреймом."
   ]
  },
  {
   "cell_type": "code",
   "execution_count": 4,
   "metadata": {
    "id": "6Z_fw0yLDWKk"
   },
   "outputs": [],
   "source": [
    "query = '''\n",
    "SELECT *\n",
    "FROM stackoverflow.users\n",
    "LIMIT 10;\n",
    "'''\n",
    "\n",
    "sample_df = pd.read_sql_query(query, con=engine) "
   ]
  },
  {
   "cell_type": "code",
   "execution_count": 5,
   "metadata": {
    "id": "ZpuZ290oDWKk",
    "outputId": "22785a0a-e2bc-4559-ec3c-4879c4b377eb"
   },
   "outputs": [
    {
     "data": {
      "text/html": [
       "<div>\n",
       "<style scoped>\n",
       "    .dataframe tbody tr th:only-of-type {\n",
       "        vertical-align: middle;\n",
       "    }\n",
       "\n",
       "    .dataframe tbody tr th {\n",
       "        vertical-align: top;\n",
       "    }\n",
       "\n",
       "    .dataframe thead th {\n",
       "        text-align: right;\n",
       "    }\n",
       "</style>\n",
       "<table border=\"1\" class=\"dataframe\">\n",
       "  <thead>\n",
       "    <tr style=\"text-align: right;\">\n",
       "      <th></th>\n",
       "      <th>id</th>\n",
       "      <th>creation_date</th>\n",
       "      <th>display_name</th>\n",
       "      <th>last_access_date</th>\n",
       "      <th>location</th>\n",
       "      <th>reputation</th>\n",
       "      <th>views</th>\n",
       "    </tr>\n",
       "  </thead>\n",
       "  <tbody>\n",
       "    <tr>\n",
       "      <th>0</th>\n",
       "      <td>1</td>\n",
       "      <td>2008-07-31 14:22:31</td>\n",
       "      <td>Jeff Atwood</td>\n",
       "      <td>2018-08-29 02:34:23</td>\n",
       "      <td>El Cerrito, CA</td>\n",
       "      <td>44300</td>\n",
       "      <td>408587</td>\n",
       "    </tr>\n",
       "    <tr>\n",
       "      <th>1</th>\n",
       "      <td>2</td>\n",
       "      <td>2008-07-31 14:22:31</td>\n",
       "      <td>Geoff Dalgas</td>\n",
       "      <td>2018-08-23 17:31:56</td>\n",
       "      <td>Corvallis, OR</td>\n",
       "      <td>3491</td>\n",
       "      <td>23966</td>\n",
       "    </tr>\n",
       "    <tr>\n",
       "      <th>2</th>\n",
       "      <td>3</td>\n",
       "      <td>2008-07-31 14:22:31</td>\n",
       "      <td>Jarrod Dixon</td>\n",
       "      <td>2018-08-30 20:56:24</td>\n",
       "      <td>Raleigh, NC, United States</td>\n",
       "      <td>13418</td>\n",
       "      <td>24396</td>\n",
       "    </tr>\n",
       "    <tr>\n",
       "      <th>3</th>\n",
       "      <td>4</td>\n",
       "      <td>2008-07-31 14:22:31</td>\n",
       "      <td>Joel Spolsky</td>\n",
       "      <td>2018-08-14 22:18:15</td>\n",
       "      <td>New York, NY</td>\n",
       "      <td>28768</td>\n",
       "      <td>73755</td>\n",
       "    </tr>\n",
       "    <tr>\n",
       "      <th>4</th>\n",
       "      <td>5</td>\n",
       "      <td>2008-07-31 14:22:31</td>\n",
       "      <td>Jon Galloway</td>\n",
       "      <td>2018-08-29 16:48:36</td>\n",
       "      <td>San Diego, CA</td>\n",
       "      <td>39172</td>\n",
       "      <td>11700</td>\n",
       "    </tr>\n",
       "    <tr>\n",
       "      <th>5</th>\n",
       "      <td>8</td>\n",
       "      <td>2008-07-31 21:33:24</td>\n",
       "      <td>Eggs McLaren</td>\n",
       "      <td>2018-04-09 02:04:56</td>\n",
       "      <td>None</td>\n",
       "      <td>942</td>\n",
       "      <td>6372</td>\n",
       "    </tr>\n",
       "    <tr>\n",
       "      <th>6</th>\n",
       "      <td>9</td>\n",
       "      <td>2008-07-31 21:35:27</td>\n",
       "      <td>Kevin Dente</td>\n",
       "      <td>2018-08-30 18:18:03</td>\n",
       "      <td>Oakland, CA</td>\n",
       "      <td>14337</td>\n",
       "      <td>4949</td>\n",
       "    </tr>\n",
       "    <tr>\n",
       "      <th>7</th>\n",
       "      <td>11</td>\n",
       "      <td>2008-08-01 00:59:11</td>\n",
       "      <td>Anonymous User</td>\n",
       "      <td>2008-08-01 00:59:11</td>\n",
       "      <td>None</td>\n",
       "      <td>1890</td>\n",
       "      <td>2123</td>\n",
       "    </tr>\n",
       "    <tr>\n",
       "      <th>8</th>\n",
       "      <td>13</td>\n",
       "      <td>2008-08-01 04:18:05</td>\n",
       "      <td>Chris Jester-Young</td>\n",
       "      <td>2018-08-30 02:47:23</td>\n",
       "      <td>Raleigh, NC, United States</td>\n",
       "      <td>177138</td>\n",
       "      <td>35414</td>\n",
       "    </tr>\n",
       "    <tr>\n",
       "      <th>9</th>\n",
       "      <td>17</td>\n",
       "      <td>2008-08-01 12:02:22</td>\n",
       "      <td>Nick Berardi</td>\n",
       "      <td>2018-01-22 01:35:38</td>\n",
       "      <td>Issaquah, WA</td>\n",
       "      <td>44443</td>\n",
       "      <td>4786</td>\n",
       "    </tr>\n",
       "  </tbody>\n",
       "</table>\n",
       "</div>"
      ],
      "text/plain": [
       "   id       creation_date        display_name    last_access_date  \\\n",
       "0   1 2008-07-31 14:22:31         Jeff Atwood 2018-08-29 02:34:23   \n",
       "1   2 2008-07-31 14:22:31        Geoff Dalgas 2018-08-23 17:31:56   \n",
       "2   3 2008-07-31 14:22:31        Jarrod Dixon 2018-08-30 20:56:24   \n",
       "3   4 2008-07-31 14:22:31        Joel Spolsky 2018-08-14 22:18:15   \n",
       "4   5 2008-07-31 14:22:31        Jon Galloway 2018-08-29 16:48:36   \n",
       "5   8 2008-07-31 21:33:24        Eggs McLaren 2018-04-09 02:04:56   \n",
       "6   9 2008-07-31 21:35:27         Kevin Dente 2018-08-30 18:18:03   \n",
       "7  11 2008-08-01 00:59:11      Anonymous User 2008-08-01 00:59:11   \n",
       "8  13 2008-08-01 04:18:05  Chris Jester-Young 2018-08-30 02:47:23   \n",
       "9  17 2008-08-01 12:02:22        Nick Berardi 2018-01-22 01:35:38   \n",
       "\n",
       "                     location  reputation   views  \n",
       "0              El Cerrito, CA       44300  408587  \n",
       "1               Corvallis, OR        3491   23966  \n",
       "2  Raleigh, NC, United States       13418   24396  \n",
       "3                New York, NY       28768   73755  \n",
       "4               San Diego, CA       39172   11700  \n",
       "5                        None         942    6372  \n",
       "6                 Oakland, CA       14337    4949  \n",
       "7                        None        1890    2123  \n",
       "8  Raleigh, NC, United States      177138   35414  \n",
       "9                Issaquah, WA       44443    4786  "
      ]
     },
     "execution_count": 5,
     "metadata": {},
     "output_type": "execute_result"
    }
   ],
   "source": [
    "sample_df"
   ]
  },
  {
   "cell_type": "markdown",
   "metadata": {
    "id": "gnBMXkDBDWKm"
   },
   "source": [
    "# Задание 1"
   ]
  },
  {
   "cell_type": "markdown",
   "metadata": {
    "id": "vHsfOrrNDWKn"
   },
   "source": [
    "Выведите общую сумму просмотров постов за каждый месяц 2008 года. Если данных за какой-либо месяц в базе нет, такой месяц можно пропустить. Результат отсортируйте по убыванию общего количества просмотров."
   ]
  },
  {
   "cell_type": "markdown",
   "metadata": {
    "id": "N5rTgGNmDWKn"
   },
   "source": [
    "| month_date  | total_views |\n",
    "| ------------- | ------------- |\n",
    "| 2008-09-01  | 452928568  |\n",
    "| 2008-10-01  | 365400138  |\n",
    "| ...         | ... |"
   ]
  },
  {
   "cell_type": "code",
   "execution_count": 4,
   "metadata": {
    "id": "eWvykcXTDWKo"
   },
   "outputs": [
    {
     "data": {
      "text/html": [
       "<div>\n",
       "<style scoped>\n",
       "    .dataframe tbody tr th:only-of-type {\n",
       "        vertical-align: middle;\n",
       "    }\n",
       "\n",
       "    .dataframe tbody tr th {\n",
       "        vertical-align: top;\n",
       "    }\n",
       "\n",
       "    .dataframe thead th {\n",
       "        text-align: right;\n",
       "    }\n",
       "</style>\n",
       "<table border=\"1\" class=\"dataframe\">\n",
       "  <thead>\n",
       "    <tr style=\"text-align: right;\">\n",
       "      <th></th>\n",
       "      <th>total_views</th>\n",
       "    </tr>\n",
       "    <tr>\n",
       "      <th>month_date</th>\n",
       "      <th></th>\n",
       "    </tr>\n",
       "  </thead>\n",
       "  <tbody>\n",
       "    <tr>\n",
       "      <th>2008-09-01</th>\n",
       "      <td>452928568</td>\n",
       "    </tr>\n",
       "    <tr>\n",
       "      <th>2008-10-01</th>\n",
       "      <td>365400138</td>\n",
       "    </tr>\n",
       "    <tr>\n",
       "      <th>2008-11-01</th>\n",
       "      <td>221759651</td>\n",
       "    </tr>\n",
       "    <tr>\n",
       "      <th>2008-12-01</th>\n",
       "      <td>197792841</td>\n",
       "    </tr>\n",
       "    <tr>\n",
       "      <th>2008-08-01</th>\n",
       "      <td>131367083</td>\n",
       "    </tr>\n",
       "    <tr>\n",
       "      <th>2008-07-01</th>\n",
       "      <td>669895</td>\n",
       "    </tr>\n",
       "  </tbody>\n",
       "</table>\n",
       "</div>"
      ],
      "text/plain": [
       "            total_views\n",
       "month_date             \n",
       "2008-09-01    452928568\n",
       "2008-10-01    365400138\n",
       "2008-11-01    221759651\n",
       "2008-12-01    197792841\n",
       "2008-08-01    131367083\n",
       "2008-07-01       669895"
      ]
     },
     "execution_count": 4,
     "metadata": {},
     "output_type": "execute_result"
    }
   ],
   "source": [
    "# напишите запрос\n",
    "query = '''\n",
    "    SELECT\n",
    "        DATE_TRUNC('month', creation_date) AS month_date,\n",
    "        SUM(views_count)                   AS total_views\n",
    "    FROM\n",
    "        stackoverflow.posts\n",
    "    WHERE EXTRACT(YEAR FROM creation_date) = 2008\n",
    "    GROUP BY month_date\n",
    "    ORDER BY total_views DESC;\n",
    "'''\n",
    "\n",
    "# выполните запрос\n",
    "query_result = pd.read_sql_query(query, con = engine) \n",
    "query_result.set_index('month_date', inplace=True)\n",
    "query_result"
   ]
  },
  {
   "cell_type": "markdown",
   "metadata": {
    "id": "XMr_UeU6DWKo"
   },
   "source": [
    "<details>\n",
    "\n",
    "<summary>Подсказка</summary>\n",
    "Используйте функцию для усечения даты, а затем сгруппируйте и отсортируйте данные.\n",
    "</details>"
   ]
  },
  {
   "cell_type": "markdown",
   "metadata": {
    "id": "I_ZvhOxkDWKp"
   },
   "source": [
    "Проанализируйте итоговую таблицу. Отличаются ли данные за разные месяцы? С чем могут быть связаны отличия?"
   ]
  },
  {
   "cell_type": "code",
   "execution_count": 5,
   "metadata": {
    "id": "luxSj17oDWKq"
   },
   "outputs": [
    {
     "data": {
      "image/png": "[encoded data removed]",
      "text/plain": [
       "<Figure size 648x432 with 1 Axes>"
      ]
     },
     "metadata": {
      "needs_background": "light"
     },
     "output_type": "display_data"
    }
   ],
   "source": [
    "# напишите ваш ответ здесь\n",
    "\n",
    "query_result.plot(y='total_views', title='Количество просмотров по месяцам.', figsize=(9,6))\n",
    "plt.ylabel('Количество просмотров')\n",
    "plt.xlabel('Месяц')\n",
    "plt.show()"
   ]
  },
  {
   "cell_type": "markdown",
   "metadata": {},
   "source": [
    "Отличия могут связаны с началом учебного года. В июле и августе наименьшее количество просмотров за весь данный период так как у большинства студентов и школьников каникулы. Затем значительный рост в сентябре и плавный спад к декабрю. Что школьники, что студенты по мере продвижения учебного года учатся все меньше и меньше в сравнении с началом. Взглянув еще на январь следующего года, мы видим еще больший пик чем в сентябре - это, скорее всего, сессия, когда студенты начинают судорожно готовиться к экзаменам."
   ]
  },
  {
   "cell_type": "markdown",
   "metadata": {
    "id": "FziIXkn5DWKr"
   },
   "source": [
    "# Задание 2"
   ]
  },
  {
   "cell_type": "markdown",
   "metadata": {
    "id": "fTGESZvYDWKr"
   },
   "source": [
    "Выведите имена самых активных пользователей, которые в первый месяц после регистрации (включая день регистрации) дали больше 100 ответов. Вопросы, которые задавали пользователи, не учитывайте. Для каждого имени пользователя выведите количество уникальных значений `user_id`. Отсортируйте результат по полю с именами в лексикографическом порядке."
   ]
  },
  {
   "cell_type": "markdown",
   "metadata": {
    "id": "W5-tv6Y3DWKs"
   },
   "source": [
    "| display_name | count |\n",
    "| ------------ | ----- |\n",
    "| 1800 INFORMATION | 1 |\n",
    "| Adam Bellaire | 1 |\n",
    "| Adam Davis | 1 |\n",
    "| ... | ... |"
   ]
  },
  {
   "cell_type": "code",
   "execution_count": 6,
   "metadata": {
    "id": "fIO-y-YjDWKt"
   },
   "outputs": [
    {
     "data": {
      "text/html": [
       "<div>\n",
       "<style scoped>\n",
       "    .dataframe tbody tr th:only-of-type {\n",
       "        vertical-align: middle;\n",
       "    }\n",
       "\n",
       "    .dataframe tbody tr th {\n",
       "        vertical-align: top;\n",
       "    }\n",
       "\n",
       "    .dataframe thead th {\n",
       "        text-align: right;\n",
       "    }\n",
       "</style>\n",
       "<table border=\"1\" class=\"dataframe\">\n",
       "  <thead>\n",
       "    <tr style=\"text-align: right;\">\n",
       "      <th></th>\n",
       "      <th>display_name</th>\n",
       "      <th>user_cnt</th>\n",
       "    </tr>\n",
       "  </thead>\n",
       "  <tbody>\n",
       "    <tr>\n",
       "      <th>0</th>\n",
       "      <td>1800 INFORMATION</td>\n",
       "      <td>1</td>\n",
       "    </tr>\n",
       "    <tr>\n",
       "      <th>1</th>\n",
       "      <td>Adam Bellaire</td>\n",
       "      <td>1</td>\n",
       "    </tr>\n",
       "    <tr>\n",
       "      <th>2</th>\n",
       "      <td>Adam Davis</td>\n",
       "      <td>1</td>\n",
       "    </tr>\n",
       "    <tr>\n",
       "      <th>3</th>\n",
       "      <td>Adam Liss</td>\n",
       "      <td>1</td>\n",
       "    </tr>\n",
       "    <tr>\n",
       "      <th>4</th>\n",
       "      <td>Alan</td>\n",
       "      <td>8</td>\n",
       "    </tr>\n",
       "    <tr>\n",
       "      <th>...</th>\n",
       "      <td>...</td>\n",
       "      <td>...</td>\n",
       "    </tr>\n",
       "    <tr>\n",
       "      <th>71</th>\n",
       "      <td>leppie</td>\n",
       "      <td>1</td>\n",
       "    </tr>\n",
       "    <tr>\n",
       "      <th>72</th>\n",
       "      <td>lomaxx</td>\n",
       "      <td>1</td>\n",
       "    </tr>\n",
       "    <tr>\n",
       "      <th>73</th>\n",
       "      <td>mattlant</td>\n",
       "      <td>1</td>\n",
       "    </tr>\n",
       "    <tr>\n",
       "      <th>74</th>\n",
       "      <td>paxdiablo</td>\n",
       "      <td>1</td>\n",
       "    </tr>\n",
       "    <tr>\n",
       "      <th>75</th>\n",
       "      <td>tzot</td>\n",
       "      <td>1</td>\n",
       "    </tr>\n",
       "  </tbody>\n",
       "</table>\n",
       "<p>76 rows × 2 columns</p>\n",
       "</div>"
      ],
      "text/plain": [
       "        display_name  user_cnt\n",
       "0   1800 INFORMATION         1\n",
       "1      Adam Bellaire         1\n",
       "2         Adam Davis         1\n",
       "3          Adam Liss         1\n",
       "4               Alan         8\n",
       "..               ...       ...\n",
       "71            leppie         1\n",
       "72            lomaxx         1\n",
       "73          mattlant         1\n",
       "74         paxdiablo         1\n",
       "75              tzot         1\n",
       "\n",
       "[76 rows x 2 columns]"
      ]
     },
     "execution_count": 6,
     "metadata": {},
     "output_type": "execute_result"
    }
   ],
   "source": [
    "# напишите запрос\n",
    "query = '''\n",
    "SELECT\n",
    "    u.display_name,\n",
    "    COUNT(DISTINCT u.id) AS user_cnt\n",
    "FROM\n",
    "    stackoverflow.users AS u \n",
    "JOIN stackoverflow.posts AS p ON u.id = p.user_id\n",
    "JOIN stackoverflow.post_types AS pt ON p.post_type_id = pt.id\n",
    "WHERE pt.type = 'Answer' AND (u.creation_date <= p.creation_date) \n",
    "                         AND (p.creation_date - u.creation_date <= '30 days')\n",
    "GROUP BY u.display_name\n",
    "HAVING COUNT(p.id) > 100\n",
    "ORDER BY u.display_name;\n",
    "'''\n",
    "\n",
    "# выполните запрос\n",
    "query_result = pd.read_sql_query(query, con = engine) \n",
    "query_result"
   ]
  },
  {
   "cell_type": "markdown",
   "metadata": {
    "id": "YIqqc-7HDWKt"
   },
   "source": [
    "<details>\n",
    "\n",
    "<summary>Подсказка</summary>\n",
    "Вам нужно присоединить несколько таблиц — изучите внимательнее описание базы. Чтобы добавить промежуток времени к дате, используйте ключевое слово INTERVAL, например, так: <дата> + INTERVAL '1 year 2 months 3 days'\n",
    ".</details>"
   ]
  },
  {
   "cell_type": "markdown",
   "metadata": {
    "id": "I3Wr82TplKpI"
   },
   "source": [
    "Какие аномалии наблюдаются в данных? О чём они говорят?"
   ]
  },
  {
   "cell_type": "markdown",
   "metadata": {},
   "source": [
    "У каждого пользователя есть уникальный идентификатор, однако отображаемое имя не является уникальным и как можно заметить есть достаточно много повторений. Т"
   ]
  },
  {
   "cell_type": "markdown",
   "metadata": {
    "id": "JhM2xXj5DWKu"
   },
   "source": [
    "# Задание 3"
   ]
  },
  {
   "cell_type": "markdown",
   "metadata": {
    "id": "IS6xPqyyDWKu"
   },
   "source": [
    "Выведите количество постов за 2008 год по месяцам. Отберите посты от пользователей, которые зарегистрировались в сентябре 2008 года и сделали хотя бы один пост в декабре того же года. Отсортируйте таблицу по значению месяца по убыванию."
   ]
  },
  {
   "cell_type": "markdown",
   "metadata": {
    "id": "WmjhjV2xDWKv"
   },
   "source": [
    "| month | count |\n",
    "| ------|------ |\n",
    "| 2008-12-01 | 17641 |\n",
    "| 2008-11-01 | 18294 |\n",
    "| ... | ... |"
   ]
  },
  {
   "cell_type": "code",
   "execution_count": 7,
   "metadata": {
    "id": "kVu0FB8WDWKv"
   },
   "outputs": [
    {
     "data": {
      "text/html": [
       "<div>\n",
       "<style scoped>\n",
       "    .dataframe tbody tr th:only-of-type {\n",
       "        vertical-align: middle;\n",
       "    }\n",
       "\n",
       "    .dataframe tbody tr th {\n",
       "        vertical-align: top;\n",
       "    }\n",
       "\n",
       "    .dataframe thead th {\n",
       "        text-align: right;\n",
       "    }\n",
       "</style>\n",
       "<table border=\"1\" class=\"dataframe\">\n",
       "  <thead>\n",
       "    <tr style=\"text-align: right;\">\n",
       "      <th></th>\n",
       "      <th>month_date</th>\n",
       "      <th>num_posts</th>\n",
       "    </tr>\n",
       "  </thead>\n",
       "  <tbody>\n",
       "    <tr>\n",
       "      <th>0</th>\n",
       "      <td>2008-12-01</td>\n",
       "      <td>17641</td>\n",
       "    </tr>\n",
       "    <tr>\n",
       "      <th>1</th>\n",
       "      <td>2008-11-01</td>\n",
       "      <td>18294</td>\n",
       "    </tr>\n",
       "    <tr>\n",
       "      <th>2</th>\n",
       "      <td>2008-10-01</td>\n",
       "      <td>27171</td>\n",
       "    </tr>\n",
       "    <tr>\n",
       "      <th>3</th>\n",
       "      <td>2008-09-01</td>\n",
       "      <td>24870</td>\n",
       "    </tr>\n",
       "    <tr>\n",
       "      <th>4</th>\n",
       "      <td>2008-08-01</td>\n",
       "      <td>32</td>\n",
       "    </tr>\n",
       "  </tbody>\n",
       "</table>\n",
       "</div>"
      ],
      "text/plain": [
       "   month_date  num_posts\n",
       "0  2008-12-01      17641\n",
       "1  2008-11-01      18294\n",
       "2  2008-10-01      27171\n",
       "3  2008-09-01      24870\n",
       "4  2008-08-01         32"
      ]
     },
     "execution_count": 7,
     "metadata": {},
     "output_type": "execute_result"
    }
   ],
   "source": [
    "# напишите запрос\n",
    "query = '''\n",
    "SELECT\n",
    "    DATE_TRUNC('month', creation_date)::date AS month_date,\n",
    "    COUNT(id) AS num_posts\n",
    "FROM\n",
    "    stackoverflow.posts \n",
    "WHERE user_id IN\n",
    "                (\n",
    "                    SELECT\n",
    "                        DISTINCT u.id\n",
    "                    FROM\n",
    "                        stackoverflow.users AS u\n",
    "                    JOIN stackoverflow.posts AS p ON u.id = p.user_id\n",
    "                    WHERE (u.creation_date::DATE >= '2008-09-01' AND u.creation_date::DATE <= '2008-09-30')\n",
    "                    AND (p.creation_date::DATE >= '2008-12-01' AND p.creation_date::DATE <= '2008-12-31')\n",
    "                )\n",
    "GROUP BY month_date\n",
    "ORDER BY month_date DESC;\n",
    "'''\n",
    "\n",
    "# выполните запрос\n",
    "query_result = pd.read_sql_query(query, con = engine) \n",
    "query_result"
   ]
  },
  {
   "cell_type": "markdown",
   "metadata": {
    "id": "nWf0JsTMDWKx"
   },
   "source": [
    "<details>\n",
    "\n",
    "<summary>Подсказка</summary>\n",
    "Сначала найдите идентификаторы пользователей, которые зарегистрировались в сентябре 2008 года и оставили хотя бы один пост в декабре. Затем используйте результат для среза и посчитайте посты по месяцам.</details>"
   ]
  },
  {
   "cell_type": "markdown",
   "metadata": {
    "id": "Vnxn9DVHDWKx"
   },
   "source": [
    "Изучите данные: есть ли в них аномалии? Предположите, почему могли появиться аномальные значения."
   ]
  },
  {
   "cell_type": "markdown",
   "metadata": {},
   "source": [
    "Похоже пользователи зарегистрировавшиеся в сентябре больше всего были активны как раз таки в сентябре и октябре. Дальше активность начинает падать. Однако если взглянуть на первый месяц слудеющего года, то увидим снова приток количества постов."
   ]
  },
  {
   "cell_type": "markdown",
   "metadata": {
    "id": "5Pcizm0DDWKz"
   },
   "source": [
    "# Задание 4"
   ]
  },
  {
   "cell_type": "markdown",
   "metadata": {
    "id": "KUZPF6vHDWKz"
   },
   "source": [
    "Используя данные о постах, выведите несколько полей:\n",
    "\n",
    "- идентификатор пользователя, который написал пост;\n",
    "- дата создания поста;\n",
    "- количество просмотров у текущего поста;\n",
    "- сумму просмотров постов автора с накоплением.\n",
    "\n",
    "Данные в таблице должны быть отсортированы по возрастанию идентификаторов пользователей, а данные об одном и том же пользователе — по возрастанию даты создания поста."
   ]
  },
  {
   "cell_type": "markdown",
   "metadata": {
    "id": "ZpsTUVDYDWK0"
   },
   "source": [
    "| user_id | creation_date | views_count | cumulative_count |\n",
    "| ------ | -------------- | ----------- | ---------------- |\n",
    "| 1 | 2008-07-31 23:41:00  | 480476   | 480476  |\n",
    "| 1 | 2008-07-31 23:55:38  | 136033 | 616509  | \n",
    "| 1 | 2008-07-31 23:56:41  | 0 |  616509  |\n",
    "| ... | ... | ... | ... |\n",
    "| 2 | 2008-07-31 23:56:41 | 79087  | 79087 |\n",
    "| 2 | 2008-08-01 05:09:56 | 65443 | 144530 |\n",
    "| ... | ...  | ...  | ...  |"
   ]
  },
  {
   "cell_type": "code",
   "execution_count": 8,
   "metadata": {
    "id": "hDoJhMzfDWK0"
   },
   "outputs": [
    {
     "data": {
      "text/html": [
       "<div>\n",
       "<style scoped>\n",
       "    .dataframe tbody tr th:only-of-type {\n",
       "        vertical-align: middle;\n",
       "    }\n",
       "\n",
       "    .dataframe tbody tr th {\n",
       "        vertical-align: top;\n",
       "    }\n",
       "\n",
       "    .dataframe thead th {\n",
       "        text-align: right;\n",
       "    }\n",
       "</style>\n",
       "<table border=\"1\" class=\"dataframe\">\n",
       "  <thead>\n",
       "    <tr style=\"text-align: right;\">\n",
       "      <th></th>\n",
       "      <th>user_id</th>\n",
       "      <th>creation_date</th>\n",
       "      <th>views_count</th>\n",
       "      <th>cumulative_count</th>\n",
       "    </tr>\n",
       "  </thead>\n",
       "  <tbody>\n",
       "    <tr>\n",
       "      <th>0</th>\n",
       "      <td>1</td>\n",
       "      <td>2008-07-31 23:41:00</td>\n",
       "      <td>480476</td>\n",
       "      <td>480476</td>\n",
       "    </tr>\n",
       "    <tr>\n",
       "      <th>1</th>\n",
       "      <td>1</td>\n",
       "      <td>2008-07-31 23:55:38</td>\n",
       "      <td>136033</td>\n",
       "      <td>616509</td>\n",
       "    </tr>\n",
       "    <tr>\n",
       "      <th>2</th>\n",
       "      <td>1</td>\n",
       "      <td>2008-07-31 23:56:41</td>\n",
       "      <td>0</td>\n",
       "      <td>616509</td>\n",
       "    </tr>\n",
       "    <tr>\n",
       "      <th>3</th>\n",
       "      <td>1</td>\n",
       "      <td>2008-08-04 02:45:08</td>\n",
       "      <td>0</td>\n",
       "      <td>616509</td>\n",
       "    </tr>\n",
       "    <tr>\n",
       "      <th>4</th>\n",
       "      <td>1</td>\n",
       "      <td>2008-08-04 04:31:03</td>\n",
       "      <td>0</td>\n",
       "      <td>616509</td>\n",
       "    </tr>\n",
       "    <tr>\n",
       "      <th>...</th>\n",
       "      <td>...</td>\n",
       "      <td>...</td>\n",
       "      <td>...</td>\n",
       "      <td>...</td>\n",
       "    </tr>\n",
       "    <tr>\n",
       "      <th>95</th>\n",
       "      <td>4</td>\n",
       "      <td>2008-09-14 19:51:49</td>\n",
       "      <td>1973</td>\n",
       "      <td>1973</td>\n",
       "    </tr>\n",
       "    <tr>\n",
       "      <th>96</th>\n",
       "      <td>4</td>\n",
       "      <td>2008-09-16 08:59:23</td>\n",
       "      <td>0</td>\n",
       "      <td>1973</td>\n",
       "    </tr>\n",
       "    <tr>\n",
       "      <th>97</th>\n",
       "      <td>4</td>\n",
       "      <td>2008-09-17 00:04:02</td>\n",
       "      <td>0</td>\n",
       "      <td>1973</td>\n",
       "    </tr>\n",
       "    <tr>\n",
       "      <th>98</th>\n",
       "      <td>4</td>\n",
       "      <td>2008-09-17 01:14:02</td>\n",
       "      <td>0</td>\n",
       "      <td>1973</td>\n",
       "    </tr>\n",
       "    <tr>\n",
       "      <th>99</th>\n",
       "      <td>4</td>\n",
       "      <td>2008-09-20 03:28:34</td>\n",
       "      <td>36985</td>\n",
       "      <td>38958</td>\n",
       "    </tr>\n",
       "  </tbody>\n",
       "</table>\n",
       "<p>100 rows × 4 columns</p>\n",
       "</div>"
      ],
      "text/plain": [
       "    user_id       creation_date  views_count  cumulative_count\n",
       "0         1 2008-07-31 23:41:00       480476            480476\n",
       "1         1 2008-07-31 23:55:38       136033            616509\n",
       "2         1 2008-07-31 23:56:41            0            616509\n",
       "3         1 2008-08-04 02:45:08            0            616509\n",
       "4         1 2008-08-04 04:31:03            0            616509\n",
       "..      ...                 ...          ...               ...\n",
       "95        4 2008-09-14 19:51:49         1973              1973\n",
       "96        4 2008-09-16 08:59:23            0              1973\n",
       "97        4 2008-09-17 00:04:02            0              1973\n",
       "98        4 2008-09-17 01:14:02            0              1973\n",
       "99        4 2008-09-20 03:28:34        36985             38958\n",
       "\n",
       "[100 rows x 4 columns]"
      ]
     },
     "execution_count": 8,
     "metadata": {},
     "output_type": "execute_result"
    }
   ],
   "source": [
    "# напишите запрос\n",
    "query = '''\n",
    "SELECT\n",
    "    user_id,\n",
    "    creation_date,\n",
    "    views_count,\n",
    "    SUM(views_count) OVER(PARTITION BY user_id ORDER BY creation_date) AS cumulative_count\n",
    "FROM\n",
    "    stackoverflow.posts\n",
    "ORDER BY user_id\n",
    "LIMIT 100;\n",
    "'''\n",
    "\n",
    "# выполните запрос\n",
    "query_result = pd.read_sql_query(query, con = engine) \n",
    "query_result"
   ]
  },
  {
   "cell_type": "markdown",
   "metadata": {
    "id": "N0kHRHvIDWK2"
   },
   "source": [
    "# Задание 5"
   ]
  },
  {
   "cell_type": "markdown",
   "metadata": {
    "id": "gBgvmPtODWK2"
   },
   "source": [
    "Найдите среднее количество постов пользователей в день за август 2008 года. Отберите данные о пользователях, которые опубликовали больше 120 постов за август. Дни без публикаций не учитывайте. \n",
    "\n",
    "Отсортируйте результат по возрастанию среднего количества постов. Значения можно не округлять."
   ]
  },
  {
   "cell_type": "markdown",
   "metadata": {
    "id": "nfzR08BODWK3"
   },
   "source": [
    "| user_id | avg_daily |\n",
    "| ------- | --------- |\n",
    "| 116     | 4.777778  |\n",
    "| 234     | 5.208333  |\n",
    "| ...     | ... |"
   ]
  },
  {
   "cell_type": "code",
   "execution_count": 9,
   "metadata": {
    "id": "YFyPNz5GDWK3"
   },
   "outputs": [
    {
     "data": {
      "text/html": [
       "<div>\n",
       "<style scoped>\n",
       "    .dataframe tbody tr th:only-of-type {\n",
       "        vertical-align: middle;\n",
       "    }\n",
       "\n",
       "    .dataframe tbody tr th {\n",
       "        vertical-align: top;\n",
       "    }\n",
       "\n",
       "    .dataframe thead th {\n",
       "        text-align: right;\n",
       "    }\n",
       "</style>\n",
       "<table border=\"1\" class=\"dataframe\">\n",
       "  <thead>\n",
       "    <tr style=\"text-align: right;\">\n",
       "      <th></th>\n",
       "      <th>user_id</th>\n",
       "      <th>avg_daily</th>\n",
       "    </tr>\n",
       "  </thead>\n",
       "  <tbody>\n",
       "    <tr>\n",
       "      <th>0</th>\n",
       "      <td>116</td>\n",
       "      <td>4.777778</td>\n",
       "    </tr>\n",
       "    <tr>\n",
       "      <th>1</th>\n",
       "      <td>234</td>\n",
       "      <td>5.208333</td>\n",
       "    </tr>\n",
       "    <tr>\n",
       "      <th>2</th>\n",
       "      <td>91</td>\n",
       "      <td>5.681818</td>\n",
       "    </tr>\n",
       "    <tr>\n",
       "      <th>3</th>\n",
       "      <td>905</td>\n",
       "      <td>7.000000</td>\n",
       "    </tr>\n",
       "    <tr>\n",
       "      <th>4</th>\n",
       "      <td>383</td>\n",
       "      <td>7.277778</td>\n",
       "    </tr>\n",
       "  </tbody>\n",
       "</table>\n",
       "</div>"
      ],
      "text/plain": [
       "   user_id  avg_daily\n",
       "0      116   4.777778\n",
       "1      234   5.208333\n",
       "2       91   5.681818\n",
       "3      905   7.000000\n",
       "4      383   7.277778"
      ]
     },
     "execution_count": 9,
     "metadata": {},
     "output_type": "execute_result"
    }
   ],
   "source": [
    "# напишите запрос\n",
    "query = '''\n",
    "WITH user_day_cnt AS (\n",
    "    SELECT\n",
    "        user_id,\n",
    "        creation_date::date,\n",
    "        COUNT(id) AS num_posts\n",
    "    FROM\n",
    "        stackoverflow.posts\n",
    "    WHERE user_id IN (\n",
    "        SELECT\n",
    "            user_id\n",
    "        FROM\n",
    "            stackoverflow.posts\n",
    "        WHERE creation_date::DATE >= '2008-08-01' AND creation_date::DATE <= '2008-08-31'\n",
    "        GROUP BY user_id\n",
    "        HAVING COUNT(id) > 120\n",
    "    )\n",
    "    AND creation_date::DATE >= '2008-08-01' AND creation_date::DATE <= '2008-08-31'\n",
    "    GROUP BY user_id, creation_date::date\n",
    ")\n",
    "\n",
    "SELECT\n",
    "    user_id,\n",
    "    AVG(num_posts) AS avg_daily\n",
    "FROM\n",
    "    user_day_cnt\n",
    "GROUP BY user_id\n",
    "ORDER BY avg_daily;\n",
    "'''\n",
    "\n",
    "# выполните запрос\n",
    "query_result = pd.read_sql_query(query, con = engine) \n",
    "query_result"
   ]
  },
  {
   "cell_type": "markdown",
   "metadata": {
    "id": "5Gs8kiJvDWK4"
   },
   "source": [
    "<details>\n",
    "\n",
    "<summary>Подсказка</summary>\n",
    "Сначала найдите идентификаторы пользователей, которые написали более 120 постов за август. Используя этот запрос в качестве подзапроса для среза, найдите и сохраните во временную таблицу идентификаторы нужных пользователей, дни августа и количество постов в день. В основном запросе сгруппируйте данные по пользователям и найдите для каждого из них среднее количество постов.\n",
    "</details>"
   ]
  },
  {
   "cell_type": "markdown",
   "metadata": {
    "id": "EQ0dcFH4DWK5"
   },
   "source": [
    "# Задание 6"
   ]
  },
  {
   "cell_type": "markdown",
   "metadata": {
    "id": "c7flfg_hDWK5"
   },
   "source": [
    "Сколько в среднем дней в период с 1 по 7 декабря 2008 года пользователи взаимодействовали с платформой? Для каждого пользователя отберите дни, в которые он или она опубликовали хотя бы один пост. Нужно получить одно целое число — не забудьте округлить результат. "
   ]
  },
  {
   "cell_type": "markdown",
   "metadata": {
    "id": "RC1Ibzm9DWK6"
   },
   "source": [
    "| result |\n",
    "| -----  |\n",
    "| <целое число> |"
   ]
  },
  {
   "cell_type": "code",
   "execution_count": 10,
   "metadata": {
    "id": "kZ7LXTr6DWK6"
   },
   "outputs": [
    {
     "data": {
      "text/html": [
       "<div>\n",
       "<style scoped>\n",
       "    .dataframe tbody tr th:only-of-type {\n",
       "        vertical-align: middle;\n",
       "    }\n",
       "\n",
       "    .dataframe tbody tr th {\n",
       "        vertical-align: top;\n",
       "    }\n",
       "\n",
       "    .dataframe thead th {\n",
       "        text-align: right;\n",
       "    }\n",
       "</style>\n",
       "<table border=\"1\" class=\"dataframe\">\n",
       "  <thead>\n",
       "    <tr style=\"text-align: right;\">\n",
       "      <th></th>\n",
       "      <th>result</th>\n",
       "    </tr>\n",
       "  </thead>\n",
       "  <tbody>\n",
       "    <tr>\n",
       "      <th>0</th>\n",
       "      <td>2</td>\n",
       "    </tr>\n",
       "  </tbody>\n",
       "</table>\n",
       "</div>"
      ],
      "text/plain": [
       "   result\n",
       "0       2"
      ]
     },
     "execution_count": 10,
     "metadata": {},
     "output_type": "execute_result"
    }
   ],
   "source": [
    "# напишите запрос\n",
    "query = '''\n",
    "SELECT\n",
    "    AVG(days_interact)::INTEGER AS result\n",
    "FROM\n",
    "    (\n",
    "        SELECT\n",
    "            user_id,\n",
    "            COUNT(DISTINCT creation_date::date) AS days_interact\n",
    "        FROM\n",
    "            stackoverflow.posts\n",
    "        WHERE creation_date::DATE BETWEEN '2008-12-01' AND '2008-12-07'\n",
    "        GROUP BY user_id\n",
    "        ORDER BY days_interact\n",
    "    ) AS subq\n",
    "'''\n",
    "\n",
    "# выполните запрос\n",
    "query_result = pd.read_sql_query(query, con = engine) \n",
    "query_result"
   ]
  },
  {
   "cell_type": "markdown",
   "metadata": {
    "id": "2K5G3xuBDWK7"
   },
   "source": [
    "<details>\n",
    "\n",
    "<summary>Подсказка</summary>\n",
    "Посчитайте, сколько активных дней было у каждого пользователя. Добавьте данные во временную таблицу и используйте в основном запросе.\n",
    "</details>"
   ]
  },
  {
   "cell_type": "markdown",
   "metadata": {
    "id": "UJFtNNggDWK7"
   },
   "source": [
    "Проанализируйте итоговую таблицу — какие выводы можно сделать?"
   ]
  },
  {
   "cell_type": "markdown",
   "metadata": {},
   "source": [
    "Пользователи в период с 1 по 7 декабря 2008 года в среднем взаимодействовали с сайтом 2 дня."
   ]
  },
  {
   "cell_type": "markdown",
   "metadata": {
    "id": "wfOmqmfLDWK8"
   },
   "source": [
    "# Задание 7"
   ]
  },
  {
   "cell_type": "markdown",
   "metadata": {
    "id": "X4ARQimADWK9"
   },
   "source": [
    "Выведите историю активности каждого пользователя в таком виде: идентификатор пользователя, дата публикации поста. Отсортируйте вывод по возрастанию идентификаторов пользователей, а для каждого пользователя — по возрастанию даты публикации.\n",
    "\n",
    "Добавьте в таблицу новое поле: для каждого поста в нём будет указано название месяца предпоследней публикации пользователя относительно текущей. Если такой публикации нет, укажите `NULL`.  Python автоматически поменяет `NULL` на `None`, но дополнительно преобразовывать значения `None` вам не нужно.\n",
    "\n",
    "Посмотрите внимательно на образец таблицы: для первых двух постов предпоследней публикации нет, но, начиная с третьего поста, в новое поле входит нужный месяц. Для следующего пользователя в первые две записи поля `second_last_month` тоже войдёт `NULL`."
   ]
  },
  {
   "cell_type": "markdown",
   "metadata": {
    "id": "IGPjRP01DWK9"
   },
   "source": [
    "| user_id | creation_date | second_last_month |\n",
    "| ------- | ------------- | ----------------- |\n",
    "| 1       | 2008-07-31 23:41:00 | None |\n",
    "| 1       | 2008-07-31 23:55:38 | None |\n",
    "| 1       | 2008-07-31 23:56:41 | July |\n",
    "| 1       | 2008-08-04 02:45:08 | July |\n",
    "| 1       | 2008-08-04 04:31:03 | July |\n",
    "| 1       | 2008-08-04 08:04:42 | August |\n",
    "| ... | ... | ... |"
   ]
  },
  {
   "cell_type": "code",
   "execution_count": 11,
   "metadata": {
    "id": "HzI1vhaMDWK-"
   },
   "outputs": [
    {
     "data": {
      "text/html": [
       "<div>\n",
       "<style scoped>\n",
       "    .dataframe tbody tr th:only-of-type {\n",
       "        vertical-align: middle;\n",
       "    }\n",
       "\n",
       "    .dataframe tbody tr th {\n",
       "        vertical-align: top;\n",
       "    }\n",
       "\n",
       "    .dataframe thead th {\n",
       "        text-align: right;\n",
       "    }\n",
       "</style>\n",
       "<table border=\"1\" class=\"dataframe\">\n",
       "  <thead>\n",
       "    <tr style=\"text-align: right;\">\n",
       "      <th></th>\n",
       "      <th>user_id</th>\n",
       "      <th>creation_date</th>\n",
       "      <th>post_month</th>\n",
       "      <th>lag</th>\n",
       "    </tr>\n",
       "  </thead>\n",
       "  <tbody>\n",
       "    <tr>\n",
       "      <th>0</th>\n",
       "      <td>1</td>\n",
       "      <td>2008-07-31 23:41:00</td>\n",
       "      <td>July</td>\n",
       "      <td>None</td>\n",
       "    </tr>\n",
       "    <tr>\n",
       "      <th>1</th>\n",
       "      <td>1</td>\n",
       "      <td>2008-07-31 23:55:38</td>\n",
       "      <td>July</td>\n",
       "      <td>None</td>\n",
       "    </tr>\n",
       "    <tr>\n",
       "      <th>2</th>\n",
       "      <td>1</td>\n",
       "      <td>2008-07-31 23:56:41</td>\n",
       "      <td>July</td>\n",
       "      <td>July</td>\n",
       "    </tr>\n",
       "    <tr>\n",
       "      <th>3</th>\n",
       "      <td>1</td>\n",
       "      <td>2008-08-04 02:45:08</td>\n",
       "      <td>August</td>\n",
       "      <td>July</td>\n",
       "    </tr>\n",
       "    <tr>\n",
       "      <th>4</th>\n",
       "      <td>1</td>\n",
       "      <td>2008-08-04 04:31:03</td>\n",
       "      <td>August</td>\n",
       "      <td>July</td>\n",
       "    </tr>\n",
       "    <tr>\n",
       "      <th>...</th>\n",
       "      <td>...</td>\n",
       "      <td>...</td>\n",
       "      <td>...</td>\n",
       "      <td>...</td>\n",
       "    </tr>\n",
       "    <tr>\n",
       "      <th>95</th>\n",
       "      <td>4</td>\n",
       "      <td>2008-09-14 19:51:49</td>\n",
       "      <td>September</td>\n",
       "      <td>August</td>\n",
       "    </tr>\n",
       "    <tr>\n",
       "      <th>96</th>\n",
       "      <td>4</td>\n",
       "      <td>2008-09-16 08:59:23</td>\n",
       "      <td>September</td>\n",
       "      <td>August</td>\n",
       "    </tr>\n",
       "    <tr>\n",
       "      <th>97</th>\n",
       "      <td>4</td>\n",
       "      <td>2008-09-17 00:04:02</td>\n",
       "      <td>September</td>\n",
       "      <td>September</td>\n",
       "    </tr>\n",
       "    <tr>\n",
       "      <th>98</th>\n",
       "      <td>4</td>\n",
       "      <td>2008-09-17 01:14:02</td>\n",
       "      <td>September</td>\n",
       "      <td>September</td>\n",
       "    </tr>\n",
       "    <tr>\n",
       "      <th>99</th>\n",
       "      <td>4</td>\n",
       "      <td>2008-09-20 03:28:34</td>\n",
       "      <td>September</td>\n",
       "      <td>September</td>\n",
       "    </tr>\n",
       "  </tbody>\n",
       "</table>\n",
       "<p>100 rows × 4 columns</p>\n",
       "</div>"
      ],
      "text/plain": [
       "    user_id       creation_date post_month        lag\n",
       "0         1 2008-07-31 23:41:00  July            None\n",
       "1         1 2008-07-31 23:55:38  July            None\n",
       "2         1 2008-07-31 23:56:41  July       July     \n",
       "3         1 2008-08-04 02:45:08  August     July     \n",
       "4         1 2008-08-04 04:31:03  August     July     \n",
       "..      ...                 ...        ...        ...\n",
       "95        4 2008-09-14 19:51:49  September  August   \n",
       "96        4 2008-09-16 08:59:23  September  August   \n",
       "97        4 2008-09-17 00:04:02  September  September\n",
       "98        4 2008-09-17 01:14:02  September  September\n",
       "99        4 2008-09-20 03:28:34  September  September\n",
       "\n",
       "[100 rows x 4 columns]"
      ]
     },
     "execution_count": 11,
     "metadata": {},
     "output_type": "execute_result"
    }
   ],
   "source": [
    "# напишите запрос\n",
    "query = '''\n",
    "SELECT\n",
    "    user_id,\n",
    "    creation_date,\n",
    "    TO_CHAR(creation_date, 'Month') AS post_month,\n",
    "    LAG(TO_CHAR(creation_date, 'Month'), 2, NULL) OVER(PARTITION BY user_id ORDER BY creation_date)\n",
    "FROM\n",
    "    stackoverflow.posts\n",
    "ORDER BY user_id, creation_date\n",
    "LIMIT 100;\n",
    "'''\n",
    "\n",
    "# выполните запрос\n",
    "query_result = pd.read_sql_query(query, con = engine) \n",
    "query_result"
   ]
  },
  {
   "cell_type": "markdown",
   "metadata": {
    "id": "7dqoKkncDWK_"
   },
   "source": [
    "<details>\n",
    "\n",
    "<summary>Подсказка</summary>\n",
    "Преобразовать результат оконной функции в нужное значение вам поможет аналог условного оператора в SQL: CASE <поле> WHEN <старое значение> THEN <новое значение> END.\n",
    "</details>"
   ]
  },
  {
   "cell_type": "markdown",
   "metadata": {
    "id": "tf9qq2yzDWK_"
   },
   "source": [
    "# Задание 8"
   ]
  },
  {
   "cell_type": "markdown",
   "metadata": {
    "id": "gfwLVXBYDWLA"
   },
   "source": [
    "Рассчитайте аналог Retention Rate по месяцам для пользователей StackOverflow. Объедините пользователей в когорты по месяцу их первого поста. Возвращение определяйте по наличию поста в текущем месяце. "
   ]
  },
  {
   "cell_type": "markdown",
   "metadata": {
    "id": "kN2ic39WlKpl"
   },
   "source": [
    "| cohort_dt | session_date | users_cnt | cohort_users_cnt | retention_rate |\n",
    "| --- | --- | --- | --- | --- |\n",
    "| 2008-07-01 00:00:00 | 2008-07-01 00:00:00 | 3 | 3 | 100 |\n",
    "| 2008-07-01 00:00:00 | 2008-08-01 00:00:00 | 2 | 3 | 66,67 |\n",
    "| 2008-07-01 00:00:00 | 2008-09-01 00:00:00 | 1 | 3 | 33,33 |\n",
    "| 2008-07-01 00:00:00 | 2008-10-01 00:00:00 | 2 | 3 | 66,67 |\n",
    "| 2008-07-01 00:00:00 | 2008-11-01 00:00:00 | 1 | 3 | 33,33 |\n",
    "| 2008-07-01 00:00:00 | 2008-12-01 00:00:00 | 2 | 3 | 66,67 |\n",
    "| 2008-08-01 00:00:00 | 2008-08-01 00:00:00 | 2151 | 2151 | 100 |\n",
    "| ... | ... | ... | ... | ... |"
   ]
  },
  {
   "cell_type": "code",
   "execution_count": 12,
   "metadata": {
    "id": "LUgFmwmTDWLB"
   },
   "outputs": [
    {
     "data": {
      "text/html": [
       "<div>\n",
       "<style scoped>\n",
       "    .dataframe tbody tr th:only-of-type {\n",
       "        vertical-align: middle;\n",
       "    }\n",
       "\n",
       "    .dataframe tbody tr th {\n",
       "        vertical-align: top;\n",
       "    }\n",
       "\n",
       "    .dataframe thead th {\n",
       "        text-align: right;\n",
       "    }\n",
       "</style>\n",
       "<table border=\"1\" class=\"dataframe\">\n",
       "  <thead>\n",
       "    <tr style=\"text-align: right;\">\n",
       "      <th></th>\n",
       "      <th>cohort_dt</th>\n",
       "      <th>session_dt</th>\n",
       "      <th>users_cnt</th>\n",
       "      <th>cohort_users_cnt</th>\n",
       "      <th>retention_rate</th>\n",
       "    </tr>\n",
       "  </thead>\n",
       "  <tbody>\n",
       "    <tr>\n",
       "      <th>0</th>\n",
       "      <td>2008-07-01</td>\n",
       "      <td>2008-07-01</td>\n",
       "      <td>3</td>\n",
       "      <td>3</td>\n",
       "      <td>100.00</td>\n",
       "    </tr>\n",
       "    <tr>\n",
       "      <th>1</th>\n",
       "      <td>2008-07-01</td>\n",
       "      <td>2008-08-01</td>\n",
       "      <td>2</td>\n",
       "      <td>3</td>\n",
       "      <td>66.67</td>\n",
       "    </tr>\n",
       "    <tr>\n",
       "      <th>2</th>\n",
       "      <td>2008-07-01</td>\n",
       "      <td>2008-09-01</td>\n",
       "      <td>1</td>\n",
       "      <td>3</td>\n",
       "      <td>33.33</td>\n",
       "    </tr>\n",
       "    <tr>\n",
       "      <th>3</th>\n",
       "      <td>2008-07-01</td>\n",
       "      <td>2008-10-01</td>\n",
       "      <td>2</td>\n",
       "      <td>3</td>\n",
       "      <td>66.67</td>\n",
       "    </tr>\n",
       "    <tr>\n",
       "      <th>4</th>\n",
       "      <td>2008-07-01</td>\n",
       "      <td>2008-11-01</td>\n",
       "      <td>1</td>\n",
       "      <td>3</td>\n",
       "      <td>33.33</td>\n",
       "    </tr>\n",
       "    <tr>\n",
       "      <th>5</th>\n",
       "      <td>2008-07-01</td>\n",
       "      <td>2008-12-01</td>\n",
       "      <td>2</td>\n",
       "      <td>3</td>\n",
       "      <td>66.67</td>\n",
       "    </tr>\n",
       "    <tr>\n",
       "      <th>6</th>\n",
       "      <td>2008-08-01</td>\n",
       "      <td>2008-08-01</td>\n",
       "      <td>2151</td>\n",
       "      <td>2151</td>\n",
       "      <td>100.00</td>\n",
       "    </tr>\n",
       "    <tr>\n",
       "      <th>7</th>\n",
       "      <td>2008-08-01</td>\n",
       "      <td>2008-09-01</td>\n",
       "      <td>1571</td>\n",
       "      <td>2151</td>\n",
       "      <td>73.04</td>\n",
       "    </tr>\n",
       "    <tr>\n",
       "      <th>8</th>\n",
       "      <td>2008-08-01</td>\n",
       "      <td>2008-10-01</td>\n",
       "      <td>1275</td>\n",
       "      <td>2151</td>\n",
       "      <td>59.27</td>\n",
       "    </tr>\n",
       "    <tr>\n",
       "      <th>9</th>\n",
       "      <td>2008-08-01</td>\n",
       "      <td>2008-11-01</td>\n",
       "      <td>1050</td>\n",
       "      <td>2151</td>\n",
       "      <td>48.81</td>\n",
       "    </tr>\n",
       "    <tr>\n",
       "      <th>10</th>\n",
       "      <td>2008-08-01</td>\n",
       "      <td>2008-12-01</td>\n",
       "      <td>894</td>\n",
       "      <td>2151</td>\n",
       "      <td>41.56</td>\n",
       "    </tr>\n",
       "    <tr>\n",
       "      <th>11</th>\n",
       "      <td>2008-09-01</td>\n",
       "      <td>2008-09-01</td>\n",
       "      <td>7678</td>\n",
       "      <td>7678</td>\n",
       "      <td>100.00</td>\n",
       "    </tr>\n",
       "    <tr>\n",
       "      <th>12</th>\n",
       "      <td>2008-09-01</td>\n",
       "      <td>2008-10-01</td>\n",
       "      <td>4132</td>\n",
       "      <td>7678</td>\n",
       "      <td>53.82</td>\n",
       "    </tr>\n",
       "    <tr>\n",
       "      <th>13</th>\n",
       "      <td>2008-09-01</td>\n",
       "      <td>2008-11-01</td>\n",
       "      <td>2966</td>\n",
       "      <td>7678</td>\n",
       "      <td>38.63</td>\n",
       "    </tr>\n",
       "    <tr>\n",
       "      <th>14</th>\n",
       "      <td>2008-09-01</td>\n",
       "      <td>2008-12-01</td>\n",
       "      <td>2500</td>\n",
       "      <td>7678</td>\n",
       "      <td>32.56</td>\n",
       "    </tr>\n",
       "    <tr>\n",
       "      <th>15</th>\n",
       "      <td>2008-10-01</td>\n",
       "      <td>2008-10-01</td>\n",
       "      <td>3629</td>\n",
       "      <td>3629</td>\n",
       "      <td>100.00</td>\n",
       "    </tr>\n",
       "    <tr>\n",
       "      <th>16</th>\n",
       "      <td>2008-10-01</td>\n",
       "      <td>2008-11-01</td>\n",
       "      <td>1640</td>\n",
       "      <td>3629</td>\n",
       "      <td>45.19</td>\n",
       "    </tr>\n",
       "    <tr>\n",
       "      <th>17</th>\n",
       "      <td>2008-10-01</td>\n",
       "      <td>2008-12-01</td>\n",
       "      <td>1221</td>\n",
       "      <td>3629</td>\n",
       "      <td>33.65</td>\n",
       "    </tr>\n",
       "    <tr>\n",
       "      <th>18</th>\n",
       "      <td>2008-11-01</td>\n",
       "      <td>2008-11-01</td>\n",
       "      <td>2852</td>\n",
       "      <td>2852</td>\n",
       "      <td>100.00</td>\n",
       "    </tr>\n",
       "    <tr>\n",
       "      <th>19</th>\n",
       "      <td>2008-11-01</td>\n",
       "      <td>2008-12-01</td>\n",
       "      <td>1151</td>\n",
       "      <td>2852</td>\n",
       "      <td>40.36</td>\n",
       "    </tr>\n",
       "    <tr>\n",
       "      <th>20</th>\n",
       "      <td>2008-12-01</td>\n",
       "      <td>2008-12-01</td>\n",
       "      <td>2536</td>\n",
       "      <td>2536</td>\n",
       "      <td>100.00</td>\n",
       "    </tr>\n",
       "  </tbody>\n",
       "</table>\n",
       "</div>"
      ],
      "text/plain": [
       "     cohort_dt  session_dt  users_cnt  cohort_users_cnt  retention_rate\n",
       "0   2008-07-01  2008-07-01          3                 3          100.00\n",
       "1   2008-07-01  2008-08-01          2                 3           66.67\n",
       "2   2008-07-01  2008-09-01          1                 3           33.33\n",
       "3   2008-07-01  2008-10-01          2                 3           66.67\n",
       "4   2008-07-01  2008-11-01          1                 3           33.33\n",
       "5   2008-07-01  2008-12-01          2                 3           66.67\n",
       "6   2008-08-01  2008-08-01       2151              2151          100.00\n",
       "7   2008-08-01  2008-09-01       1571              2151           73.04\n",
       "8   2008-08-01  2008-10-01       1275              2151           59.27\n",
       "9   2008-08-01  2008-11-01       1050              2151           48.81\n",
       "10  2008-08-01  2008-12-01        894              2151           41.56\n",
       "11  2008-09-01  2008-09-01       7678              7678          100.00\n",
       "12  2008-09-01  2008-10-01       4132              7678           53.82\n",
       "13  2008-09-01  2008-11-01       2966              7678           38.63\n",
       "14  2008-09-01  2008-12-01       2500              7678           32.56\n",
       "15  2008-10-01  2008-10-01       3629              3629          100.00\n",
       "16  2008-10-01  2008-11-01       1640              3629           45.19\n",
       "17  2008-10-01  2008-12-01       1221              3629           33.65\n",
       "18  2008-11-01  2008-11-01       2852              2852          100.00\n",
       "19  2008-11-01  2008-12-01       1151              2852           40.36\n",
       "20  2008-12-01  2008-12-01       2536              2536          100.00"
      ]
     },
     "execution_count": 12,
     "metadata": {},
     "output_type": "execute_result"
    }
   ],
   "source": [
    "# напишите запрос\n",
    "query = '''\n",
    "WITH cohorts AS (\n",
    "    SELECT\n",
    "        user_id,\n",
    "        cohort_dt,\n",
    "        COUNT(user_id) OVER(PARTITION BY cohort_dt) AS cohort_cnt\n",
    "    FROM (\n",
    "            SELECT\n",
    "                user_id,\n",
    "                MIN(DATE_TRUNC('month', creation_date)::date) AS cohort_dt\n",
    "            FROM\n",
    "                stackoverflow.posts\n",
    "            GROUP BY user_id\n",
    "    ) AS profiles\n",
    "),\n",
    "\n",
    "user_activity AS (\n",
    "    SELECT\n",
    "        user_id,\n",
    "        DATE_TRUNC('month', creation_date)::DATE AS creation_dt\n",
    "    FROM\n",
    "        stackoverflow.posts\n",
    "    GROUP BY user_id, creation_dt\n",
    ")\n",
    "\n",
    "SELECT\n",
    "    cohort_dt,\n",
    "    creation_dt                                       AS session_dt,\n",
    "    COUNT(c.user_id)                                  AS users_cnt,\n",
    "    cohort_cnt                                        AS cohort_users_cnt,\n",
    "    ROUND(COUNT(c.user_id) * 100.0 / cohort_cnt, 2)   AS retention_rate\n",
    "FROM\n",
    "    cohorts AS c\n",
    "JOIN user_activity AS ua ON ua.user_id = c.user_id\n",
    "GROUP BY cohort_dt, session_dt, cohort_users_cnt\n",
    "ORDER BY cohort_dt, session_dt;\n",
    "'''\n",
    "\n",
    "# выполните запрос\n",
    "query_result = pd.read_sql_query(query, con = engine) \n",
    "query_result"
   ]
  },
  {
   "cell_type": "markdown",
   "metadata": {
    "id": "Yavb5o9JDWLB"
   },
   "source": [
    "<details>\n",
    "\n",
    "<summary>Подсказка</summary>\n",
    "Вспомните, как выглядел запрос для расчёта Retention Rate в теории. Создайте две временные таблицы: `profile` и `sessions` (в ней будет информация о публикациях), а затем используйте их в основном запросе.\n",
    "\n",
    "Во временной таблице `profile` вам понадобятся три поля:\n",
    "\n",
    "- идентификатор пользователя;\n",
    "- дата первого поста пользователя, усечённая до месяца (признак начала когорты);\n",
    "- количество пользователей этой когорты.\n",
    "</details>"
   ]
  },
  {
   "cell_type": "markdown",
   "metadata": {
    "id": "_msBtnb2DWLC"
   },
   "source": [
    "Постройте тепловую карту Retention Rate. Какие аномалии или другие необычные явления удалось выявить? Сформулируйте гипотезы о возможных причинах."
   ]
  },
  {
   "cell_type": "code",
   "execution_count": 13,
   "metadata": {
    "id": "qAEJc8H1DWLC"
   },
   "outputs": [
    {
     "data": {
      "image/png": "[encoded data removed]",
      "text/plain": [
       "<Figure size 1152x1152 with 2 Axes>"
      ]
     },
     "metadata": {
      "needs_background": "light"
     },
     "output_type": "display_data"
    }
   ],
   "source": [
    "# постройте тепловую карту Retention Rate\n",
    "\n",
    "retention = query_result.pivot('cohort_dt', 'session_dt', 'retention_rate')\n",
    "retention.index = [str(x)[0:10] for x in retention.index]\n",
    "retention.columns = [str(x)[0:10] for x in retention.columns]\n",
    "\n",
    "\n",
    "plt.figure(figsize=(16, 16)) \n",
    "sns.heatmap(retention, \n",
    "            annot=True, \n",
    "            fmt='') \n",
    "plt.title('Тепловая карта') \n",
    "plt.ylabel('Старт когорты')\n",
    "plt.xlabel('Последующий месяц')\n",
    "plt.show() "
   ]
  },
  {
   "cell_type": "markdown",
   "metadata": {},
   "source": [
    "Retention rate первый двух месяцев от лета к зиме стабильно уменьшается. Лучшее значение наблюдается для сентября относительно августа. Много пользователей написавших первый пост в августе также сделали это и в сентябре. Думаю причина спада связана с тем же фактом, что и был описан в предыдущих описаниях."
   ]
  },
  {
   "cell_type": "markdown",
   "metadata": {
    "id": "1k7oPWt5DWLK"
   },
   "source": [
    "# Задание 9\n"
   ]
  },
  {
   "cell_type": "markdown",
   "metadata": {
    "id": "ALsYVSyRDWLM"
   },
   "source": [
    "На сколько процентов менялось количество постов ежемесячно с 1 сентября по 31 декабря 2008 года? Отобразите таблицу со следующими полями:\n",
    "\n",
    "- номер месяца;\n",
    "- количество постов за месяц;\n",
    "- процент, который показывает, насколько изменилось количество постов в текущем месяце по сравнению с предыдущим.\n",
    "\n",
    "Если постов стало меньше, значение процента должно быть отрицательным, если больше — положительным. Округлите значение процента до двух знаков после запятой.\n",
    "\n",
    "Напомним, что при делении одного целого числа на другое в PostgreSQL в результате получится целое число, округлённое до ближайшего целого вниз. Чтобы этого избежать, переведите делимое в тип `numeric`."
   ]
  },
  {
   "cell_type": "markdown",
   "metadata": {
    "id": "u4E2zF8DDWLM"
   },
   "source": [
    "| creation_month | posts_count | percentage |\n",
    "| -------------- | ----------- | ---------- |\n",
    "| 9 | 70731 | Nan |\n",
    "| 10 | 63102 | -10.33 |\n",
    "| ... | ... | ... |"
   ]
  },
  {
   "cell_type": "code",
   "execution_count": 14,
   "metadata": {
    "id": "Mb5pShStDWLN"
   },
   "outputs": [
    {
     "data": {
      "text/html": [
       "<div>\n",
       "<style scoped>\n",
       "    .dataframe tbody tr th:only-of-type {\n",
       "        vertical-align: middle;\n",
       "    }\n",
       "\n",
       "    .dataframe tbody tr th {\n",
       "        vertical-align: top;\n",
       "    }\n",
       "\n",
       "    .dataframe thead th {\n",
       "        text-align: right;\n",
       "    }\n",
       "</style>\n",
       "<table border=\"1\" class=\"dataframe\">\n",
       "  <thead>\n",
       "    <tr style=\"text-align: right;\">\n",
       "      <th></th>\n",
       "      <th>posts_count</th>\n",
       "      <th>percentage</th>\n",
       "    </tr>\n",
       "    <tr>\n",
       "      <th>creation_month</th>\n",
       "      <th></th>\n",
       "      <th></th>\n",
       "    </tr>\n",
       "  </thead>\n",
       "  <tbody>\n",
       "    <tr>\n",
       "      <th>2008-09-01</th>\n",
       "      <td>70371</td>\n",
       "      <td>NaN</td>\n",
       "    </tr>\n",
       "    <tr>\n",
       "      <th>2008-10-01</th>\n",
       "      <td>63102</td>\n",
       "      <td>-10.33</td>\n",
       "    </tr>\n",
       "    <tr>\n",
       "      <th>2008-11-01</th>\n",
       "      <td>46975</td>\n",
       "      <td>-25.56</td>\n",
       "    </tr>\n",
       "    <tr>\n",
       "      <th>2008-12-01</th>\n",
       "      <td>44592</td>\n",
       "      <td>-5.07</td>\n",
       "    </tr>\n",
       "  </tbody>\n",
       "</table>\n",
       "</div>"
      ],
      "text/plain": [
       "                posts_count  percentage\n",
       "creation_month                         \n",
       "2008-09-01            70371         NaN\n",
       "2008-10-01            63102      -10.33\n",
       "2008-11-01            46975      -25.56\n",
       "2008-12-01            44592       -5.07"
      ]
     },
     "execution_count": 14,
     "metadata": {},
     "output_type": "execute_result"
    }
   ],
   "source": [
    "# напишите запрос\n",
    "query = '''\n",
    "SELECT\n",
    "    creation_month,\n",
    "    posts_count,\n",
    "    ROUND((posts_count::NUMERIC / LAG(posts_count) OVER(ORDER BY creation_month) - 1) * 100.0, 2) AS percentage\n",
    "FROM (\n",
    "            SELECT\n",
    "                DATE_TRUNC('month', creation_date):: DATE AS creation_month,\n",
    "                COUNT(id)                                 AS posts_count\n",
    "            FROM\n",
    "                stackoverflow.posts\n",
    "            WHERE creation_date::DATE BETWEEN '2008-09-01' AND '2008-12-31'\n",
    "            GROUP BY creation_month\n",
    ") AS month_count\n",
    "'''\n",
    "\n",
    "# выполните запрос\n",
    "query_result = pd.read_sql_query(query, con = engine) \n",
    "query_result.set_index('creation_month', inplace=True)\n",
    "query_result"
   ]
  },
  {
   "cell_type": "markdown",
   "metadata": {
    "id": "G0VSDL4HDWLO"
   },
   "source": [
    "<details>\n",
    "\n",
    "<summary>Подсказка</summary>\n",
    "Эту задачу стоит декомпозировать. Сформируйте запрос, который отобразит номер месяца и количество постов. Затем можно использовать оконную функцию, которая вернёт значение за предыдущий месяц, и посчитать процент.\n",
    "</details>"
   ]
  },
  {
   "cell_type": "markdown",
   "metadata": {
    "id": "9NQE2y_MDWLP"
   },
   "source": [
    "Постройте круговую диаграмму с количеством постов по месяцам."
   ]
  },
  {
   "cell_type": "code",
   "execution_count": 15,
   "metadata": {
    "id": "377ABjiVDWLP"
   },
   "outputs": [
    {
     "data": {
      "image/png": "[encoded data removed]",
      "text/plain": [
       "<Figure size 360x360 with 1 Axes>"
      ]
     },
     "metadata": {},
     "output_type": "display_data"
    }
   ],
   "source": [
    "# постройте круговую диаграмму с количеством постов по месяцам\n",
    "query_result.plot.pie(y='posts_count', figsize=(5,5), legend=None, autopct='%.2f')\n",
    "plt.title('Круговая диграмма постов по месяцам') \n",
    "plt.show()"
   ]
  },
  {
   "cell_type": "markdown",
   "metadata": {
    "id": "uw7qMtafDWLP"
   },
   "source": [
    "# Задание 10"
   ]
  },
  {
   "cell_type": "markdown",
   "metadata": {
    "id": "oRBpWKx3DWLQ"
   },
   "source": [
    "Выгрузите данные активности пользователя, который опубликовал больше всего постов за всё время. Выведите данные за октябрь 2008 года в таком виде:\n",
    "\n",
    "- номер недели;\n",
    "- дата и время последнего поста, опубликованного на этой неделе."
   ]
  },
  {
   "cell_type": "markdown",
   "metadata": {
    "id": "XjAWSn_3DWLQ"
   },
   "source": [
    "| week_creation | creation_date |\n",
    "| ------------- | ------------- |\n",
    "| 40 | 2008-10-05 09:00:58 |\n",
    "| 41 | 2008-10-12 21:22:23 |\n",
    "| ... | ... |"
   ]
  },
  {
   "cell_type": "code",
   "execution_count": 16,
   "metadata": {
    "id": "r5F5fSkwDWLQ"
   },
   "outputs": [
    {
     "data": {
      "text/html": [
       "<div>\n",
       "<style scoped>\n",
       "    .dataframe tbody tr th:only-of-type {\n",
       "        vertical-align: middle;\n",
       "    }\n",
       "\n",
       "    .dataframe tbody tr th {\n",
       "        vertical-align: top;\n",
       "    }\n",
       "\n",
       "    .dataframe thead th {\n",
       "        text-align: right;\n",
       "    }\n",
       "</style>\n",
       "<table border=\"1\" class=\"dataframe\">\n",
       "  <thead>\n",
       "    <tr style=\"text-align: right;\">\n",
       "      <th></th>\n",
       "      <th>week_creation</th>\n",
       "      <th>creation_date</th>\n",
       "    </tr>\n",
       "  </thead>\n",
       "  <tbody>\n",
       "    <tr>\n",
       "      <th>0</th>\n",
       "      <td>40</td>\n",
       "      <td>2008-10-05</td>\n",
       "    </tr>\n",
       "    <tr>\n",
       "      <th>1</th>\n",
       "      <td>41</td>\n",
       "      <td>2008-10-12</td>\n",
       "    </tr>\n",
       "    <tr>\n",
       "      <th>2</th>\n",
       "      <td>42</td>\n",
       "      <td>2008-10-19</td>\n",
       "    </tr>\n",
       "    <tr>\n",
       "      <th>3</th>\n",
       "      <td>43</td>\n",
       "      <td>2008-10-26</td>\n",
       "    </tr>\n",
       "    <tr>\n",
       "      <th>4</th>\n",
       "      <td>44</td>\n",
       "      <td>2008-10-31</td>\n",
       "    </tr>\n",
       "  </tbody>\n",
       "</table>\n",
       "</div>"
      ],
      "text/plain": [
       "   week_creation creation_date\n",
       "0             40    2008-10-05\n",
       "1             41    2008-10-12\n",
       "2             42    2008-10-19\n",
       "3             43    2008-10-26\n",
       "4             44    2008-10-31"
      ]
     },
     "execution_count": 16,
     "metadata": {},
     "output_type": "execute_result"
    }
   ],
   "source": [
    "# напишите запрос\n",
    "query = '''\n",
    "SELECT\n",
    "    EXTRACT(WEEK FROM creation_date)::INTEGER AS week_creation,\n",
    "    MAX(creation_date)::DATE                  AS creation_date\n",
    "FROM\n",
    "    stackoverflow.posts\n",
    "WHERE user_id IN (\n",
    "                    SELECT\n",
    "                        user_id\n",
    "                    FROM\n",
    "                        stackoverflow.posts\n",
    "                    GROUP BY user_id\n",
    "                    ORDER BY COUNT(id) DESC\n",
    "                    LIMIT 1\n",
    ") AND creation_date::DATE BETWEEN '2008-10-01' AND '2008-10-31'\n",
    "GROUP BY week_creation\n",
    "'''\n",
    "\n",
    "# выполните запрос\n",
    "query_result = pd.read_sql_query(query, con = engine) \n",
    "query_result"
   ]
  },
  {
   "cell_type": "markdown",
   "metadata": {
    "id": "KAcmxvLgDWLR"
   },
   "source": [
    "<details>\n",
    "\n",
    "<summary>Подсказка</summary>\n",
    "Декомпозируйте задачу:\n",
    "1) Найдите пользователя, который опубликовал больше всего постов. 2) Найдите дату и время создания каждого поста этого пользователя и номер недели. \n",
    "3) Отобразите данные только о последних постах пользователя. Для этого можно использовать оконную функцию.\n",
    "</details>"
   ]
  },
  {
   "cell_type": "code",
   "execution_count": null,
   "metadata": {},
   "outputs": [],
   "source": []
  }
 ],
 "metadata": {
  "ExecuteTimeLog": [
   {
    "duration": 890,
    "start_time": "2022-03-26T02:37:15.814Z"
   },
   {
    "duration": 4,
    "start_time": "2022-03-26T02:37:16.816Z"
   },
   {
    "duration": 7438,
    "start_time": "2022-03-26T02:37:18.181Z"
   },
   {
    "duration": 166,
    "start_time": "2022-03-26T02:37:25.621Z"
   },
   {
    "duration": 14,
    "start_time": "2022-03-26T02:37:25.788Z"
   },
   {
    "duration": 3,
    "start_time": "2022-03-26T02:42:08.082Z"
   },
   {
    "duration": 92,
    "start_time": "2022-03-26T02:46:31.255Z"
   },
   {
    "duration": 85,
    "start_time": "2022-03-26T02:46:56.667Z"
   },
   {
    "duration": 85,
    "start_time": "2022-03-26T02:59:55.301Z"
   },
   {
    "duration": 88,
    "start_time": "2022-03-26T03:02:45.734Z"
   },
   {
    "duration": 10,
    "start_time": "2022-03-26T03:22:57.585Z"
   },
   {
    "duration": 90,
    "start_time": "2022-03-26T03:23:02.477Z"
   },
   {
    "duration": 86,
    "start_time": "2022-03-26T03:23:10.955Z"
   },
   {
    "duration": 259,
    "start_time": "2022-03-26T03:24:15.281Z"
   },
   {
    "duration": 166,
    "start_time": "2022-03-26T03:24:25.907Z"
   },
   {
    "duration": 182,
    "start_time": "2022-03-26T03:30:39.034Z"
   },
   {
    "duration": 116,
    "start_time": "2022-03-26T03:30:50.929Z"
   },
   {
    "duration": 99,
    "start_time": "2022-03-26T03:31:16.429Z"
   },
   {
    "duration": 97,
    "start_time": "2022-03-26T03:31:24.206Z"
   },
   {
    "duration": 109,
    "start_time": "2022-03-26T03:32:27.955Z"
   },
   {
    "duration": 153,
    "start_time": "2022-03-26T03:33:37.899Z"
   },
   {
    "duration": 138,
    "start_time": "2022-03-26T03:33:47.651Z"
   },
   {
    "duration": 135,
    "start_time": "2022-03-26T03:34:02.399Z"
   },
   {
    "duration": 51,
    "start_time": "2022-03-26T05:21:28.593Z"
   },
   {
    "duration": 1035,
    "start_time": "2022-03-26T05:21:34.545Z"
   },
   {
    "duration": 4,
    "start_time": "2022-03-26T05:21:36.088Z"
   },
   {
    "duration": 18693,
    "start_time": "2022-03-26T05:21:37.440Z"
   },
   {
    "duration": 149,
    "start_time": "2022-03-26T05:21:56.134Z"
   },
   {
    "duration": 185,
    "start_time": "2022-03-26T05:28:46.063Z"
   },
   {
    "duration": 7001,
    "start_time": "2022-03-26T05:30:26.987Z"
   },
   {
    "duration": 3,
    "start_time": "2022-03-26T05:34:09.520Z"
   },
   {
    "duration": 90,
    "start_time": "2022-03-26T05:51:46.303Z"
   },
   {
    "duration": 123,
    "start_time": "2022-03-26T05:53:12.316Z"
   },
   {
    "duration": 1017,
    "start_time": "2022-03-26T07:18:20.129Z"
   },
   {
    "duration": 4,
    "start_time": "2022-03-26T07:18:21.149Z"
   },
   {
    "duration": 18993,
    "start_time": "2022-03-26T07:18:21.545Z"
   },
   {
    "duration": 279,
    "start_time": "2022-03-26T07:18:51.557Z"
   },
   {
    "duration": 1191,
    "start_time": "2022-03-26T07:19:09.147Z"
   },
   {
    "duration": 57,
    "start_time": "2022-03-26T07:39:49.253Z"
   },
   {
    "duration": 42,
    "start_time": "2022-03-26T07:51:03.090Z"
   },
   {
    "duration": 966,
    "start_time": "2022-03-26T09:46:26.489Z"
   },
   {
    "duration": 3,
    "start_time": "2022-03-26T09:46:28.578Z"
   },
   {
    "duration": 19213,
    "start_time": "2022-03-26T09:46:30.609Z"
   },
   {
    "duration": 4936,
    "start_time": "2022-03-26T09:47:03.784Z"
   },
   {
    "duration": 1094,
    "start_time": "2022-03-27T03:13:28.803Z"
   },
   {
    "duration": 5,
    "start_time": "2022-03-27T03:13:29.900Z"
   },
   {
    "duration": 4703,
    "start_time": "2022-03-27T03:13:31.420Z"
   },
   {
    "duration": 520,
    "start_time": "2022-03-27T03:13:37.720Z"
   },
   {
    "duration": 1451,
    "start_time": "2022-03-27T03:13:42.757Z"
   },
   {
    "duration": 22,
    "start_time": "2022-03-27T03:13:56.124Z"
   },
   {
    "duration": 616,
    "start_time": "2022-03-27T03:14:28.653Z"
   },
   {
    "duration": 730,
    "start_time": "2022-03-27T03:14:36.202Z"
   },
   {
    "duration": 144,
    "start_time": "2022-03-27T04:27:47.279Z"
   },
   {
    "duration": 216,
    "start_time": "2022-03-27T04:29:08.757Z"
   },
   {
    "duration": 145,
    "start_time": "2022-03-27T04:30:16.200Z"
   },
   {
    "duration": 136,
    "start_time": "2022-03-27T04:30:23.382Z"
   },
   {
    "duration": 239,
    "start_time": "2022-03-27T04:30:26.042Z"
   },
   {
    "duration": 212,
    "start_time": "2022-03-27T04:30:53.497Z"
   },
   {
    "duration": 667,
    "start_time": "2022-03-27T04:31:34.537Z"
   },
   {
    "duration": 134,
    "start_time": "2022-03-27T04:31:48.470Z"
   },
   {
    "duration": 137,
    "start_time": "2022-03-27T04:37:21.929Z"
   },
   {
    "duration": 125,
    "start_time": "2022-03-27T04:37:39.658Z"
   },
   {
    "duration": 142,
    "start_time": "2022-03-27T05:27:28.302Z"
   },
   {
    "duration": 132,
    "start_time": "2022-03-27T05:39:34.059Z"
   },
   {
    "duration": 128,
    "start_time": "2022-03-27T05:44:32.614Z"
   },
   {
    "duration": 122,
    "start_time": "2022-03-27T05:48:08.841Z"
   },
   {
    "duration": 45,
    "start_time": "2022-03-27T05:51:58.444Z"
   },
   {
    "duration": 1350,
    "start_time": "2022-03-27T05:52:06.037Z"
   },
   {
    "duration": 4,
    "start_time": "2022-03-27T05:52:07.389Z"
   },
   {
    "duration": 7709,
    "start_time": "2022-03-27T05:52:07.394Z"
   },
   {
    "duration": 181,
    "start_time": "2022-03-27T05:52:15.105Z"
   },
   {
    "duration": 13,
    "start_time": "2022-03-27T05:52:15.288Z"
   },
   {
    "duration": 98,
    "start_time": "2022-03-27T05:52:15.303Z"
   },
   {
    "duration": 226,
    "start_time": "2022-03-27T05:52:15.403Z"
   },
   {
    "duration": 153,
    "start_time": "2022-03-27T05:52:15.630Z"
   },
   {
    "duration": 3,
    "start_time": "2022-03-27T05:52:15.785Z"
   },
   {
    "duration": 151,
    "start_time": "2022-03-27T05:52:15.790Z"
   },
   {
    "duration": 147,
    "start_time": "2022-03-27T05:52:15.943Z"
   },
   {
    "duration": 3,
    "start_time": "2022-03-27T05:52:16.092Z"
   },
   {
    "duration": 1287,
    "start_time": "2022-03-27T05:52:16.097Z"
   },
   {
    "duration": 87,
    "start_time": "2022-03-27T05:52:17.387Z"
   },
   {
    "duration": 64,
    "start_time": "2022-03-27T05:52:17.476Z"
   },
   {
    "duration": 2,
    "start_time": "2022-03-27T05:52:17.542Z"
   },
   {
    "duration": 1094,
    "start_time": "2022-03-27T05:52:17.546Z"
   },
   {
    "duration": 323,
    "start_time": "2022-03-27T05:52:18.642Z"
   },
   {
    "duration": 457,
    "start_time": "2022-03-27T05:52:18.967Z"
   },
   {
    "duration": 2,
    "start_time": "2022-03-27T05:52:19.427Z"
   },
   {
    "duration": 144,
    "start_time": "2022-03-27T05:52:19.431Z"
   },
   {
    "duration": 150,
    "start_time": "2022-03-27T05:52:19.577Z"
   },
   {
    "duration": 126,
    "start_time": "2022-03-27T05:52:19.729Z"
   },
   {
    "duration": 141,
    "start_time": "2022-03-27T05:53:01.707Z"
   },
   {
    "duration": 149,
    "start_time": "2022-03-27T05:53:33.041Z"
   },
   {
    "duration": 258,
    "start_time": "2022-03-27T05:53:48.524Z"
   },
   {
    "duration": 150,
    "start_time": "2022-03-27T05:54:18.031Z"
   },
   {
    "duration": 145,
    "start_time": "2022-03-27T05:55:00.237Z"
   },
   {
    "duration": 150,
    "start_time": "2022-03-27T05:56:19.062Z"
   },
   {
    "duration": 150,
    "start_time": "2022-03-27T05:57:17.603Z"
   },
   {
    "duration": 159,
    "start_time": "2022-03-27T06:00:19.407Z"
   },
   {
    "duration": 154,
    "start_time": "2022-03-27T06:02:19.800Z"
   },
   {
    "duration": 153,
    "start_time": "2022-03-27T06:05:30.541Z"
   },
   {
    "duration": 186,
    "start_time": "2022-03-27T06:06:04.814Z"
   },
   {
    "duration": 154,
    "start_time": "2022-03-27T06:06:10.577Z"
   },
   {
    "duration": 159,
    "start_time": "2022-03-27T06:07:25.862Z"
   },
   {
    "duration": 9,
    "start_time": "2022-03-27T06:07:45.189Z"
   },
   {
    "duration": 154,
    "start_time": "2022-03-27T06:07:50.618Z"
   },
   {
    "duration": 146,
    "start_time": "2022-03-27T06:08:09.490Z"
   },
   {
    "duration": 155,
    "start_time": "2022-03-27T06:08:12.118Z"
   },
   {
    "duration": 146,
    "start_time": "2022-03-27T06:09:32.696Z"
   },
   {
    "duration": 170,
    "start_time": "2022-03-27T06:09:38.123Z"
   },
   {
    "duration": 131,
    "start_time": "2022-03-27T06:11:05.109Z"
   },
   {
    "duration": 150,
    "start_time": "2022-03-27T06:16:32.444Z"
   },
   {
    "duration": 161,
    "start_time": "2022-03-27T06:17:32.072Z"
   },
   {
    "duration": 91,
    "start_time": "2022-03-27T06:17:55.711Z"
   },
   {
    "duration": 83,
    "start_time": "2022-03-27T06:17:58.694Z"
   },
   {
    "duration": 127,
    "start_time": "2022-03-27T06:18:59.558Z"
   },
   {
    "duration": 1212,
    "start_time": "2022-03-27T06:22:45.932Z"
   },
   {
    "duration": 132,
    "start_time": "2022-03-27T06:23:37.651Z"
   },
   {
    "duration": 140,
    "start_time": "2022-03-27T06:25:18.376Z"
   },
   {
    "duration": 2374,
    "start_time": "2022-03-27T06:27:35.691Z"
   },
   {
    "duration": 2409,
    "start_time": "2022-03-27T06:27:51.650Z"
   },
   {
    "duration": 2525,
    "start_time": "2022-03-27T06:27:56.876Z"
   },
   {
    "duration": 1336,
    "start_time": "2022-03-27T06:28:29.448Z"
   },
   {
    "duration": 3,
    "start_time": "2022-03-27T06:28:30.786Z"
   },
   {
    "duration": 8198,
    "start_time": "2022-03-27T06:28:30.791Z"
   },
   {
    "duration": 195,
    "start_time": "2022-03-27T06:28:38.991Z"
   },
   {
    "duration": 14,
    "start_time": "2022-03-27T06:28:39.188Z"
   },
   {
    "duration": 96,
    "start_time": "2022-03-27T06:28:39.204Z"
   },
   {
    "duration": 239,
    "start_time": "2022-03-27T06:28:39.301Z"
   },
   {
    "duration": 153,
    "start_time": "2022-03-27T06:28:39.541Z"
   },
   {
    "duration": 3,
    "start_time": "2022-03-27T06:28:39.695Z"
   },
   {
    "duration": 154,
    "start_time": "2022-03-27T06:28:39.700Z"
   },
   {
    "duration": 2,
    "start_time": "2022-03-27T06:28:39.856Z"
   },
   {
    "duration": 1333,
    "start_time": "2022-03-27T06:28:39.860Z"
   },
   {
    "duration": 85,
    "start_time": "2022-03-27T06:28:41.194Z"
   },
   {
    "duration": 66,
    "start_time": "2022-03-27T06:28:41.280Z"
   },
   {
    "duration": 2,
    "start_time": "2022-03-27T06:28:41.348Z"
   },
   {
    "duration": 1115,
    "start_time": "2022-03-27T06:28:41.352Z"
   },
   {
    "duration": 314,
    "start_time": "2022-03-27T06:28:42.469Z"
   },
   {
    "duration": 395,
    "start_time": "2022-03-27T06:28:42.784Z"
   },
   {
    "duration": 2,
    "start_time": "2022-03-27T06:28:43.181Z"
   },
   {
    "duration": 142,
    "start_time": "2022-03-27T06:28:43.185Z"
   },
   {
    "duration": 156,
    "start_time": "2022-03-27T06:28:43.329Z"
   },
   {
    "duration": 128,
    "start_time": "2022-03-27T06:28:43.487Z"
   },
   {
    "duration": 2638,
    "start_time": "2022-03-27T06:28:56.365Z"
   },
   {
    "duration": 1218,
    "start_time": "2022-03-27T06:29:04.110Z"
   },
   {
    "duration": 4,
    "start_time": "2022-03-27T06:29:05.330Z"
   },
   {
    "duration": 8537,
    "start_time": "2022-03-27T06:29:05.335Z"
   },
   {
    "duration": 186,
    "start_time": "2022-03-27T06:29:13.874Z"
   },
   {
    "duration": 13,
    "start_time": "2022-03-27T06:29:14.062Z"
   },
   {
    "duration": 94,
    "start_time": "2022-03-27T06:29:14.077Z"
   },
   {
    "duration": 266,
    "start_time": "2022-03-27T06:29:14.173Z"
   },
   {
    "duration": 153,
    "start_time": "2022-03-27T06:29:14.440Z"
   },
   {
    "duration": 2,
    "start_time": "2022-03-27T06:29:14.595Z"
   },
   {
    "duration": 150,
    "start_time": "2022-03-27T06:29:14.599Z"
   },
   {
    "duration": 3,
    "start_time": "2022-03-27T06:29:14.750Z"
   },
   {
    "duration": 1452,
    "start_time": "2022-03-27T06:29:14.754Z"
   },
   {
    "duration": 85,
    "start_time": "2022-03-27T06:29:16.208Z"
   },
   {
    "duration": 64,
    "start_time": "2022-03-27T06:29:16.294Z"
   },
   {
    "duration": 2,
    "start_time": "2022-03-27T06:29:16.360Z"
   },
   {
    "duration": 1108,
    "start_time": "2022-03-27T06:29:16.364Z"
   },
   {
    "duration": 322,
    "start_time": "2022-03-27T06:29:17.474Z"
   },
   {
    "duration": 381,
    "start_time": "2022-03-27T06:29:17.798Z"
   },
   {
    "duration": 2,
    "start_time": "2022-03-27T06:29:18.182Z"
   },
   {
    "duration": 143,
    "start_time": "2022-03-27T06:29:18.186Z"
   },
   {
    "duration": 162,
    "start_time": "2022-03-27T06:29:18.331Z"
   },
   {
    "duration": 126,
    "start_time": "2022-03-27T06:29:18.495Z"
   },
   {
    "duration": 125,
    "start_time": "2022-03-27T06:31:08.531Z"
   },
   {
    "duration": 135,
    "start_time": "2022-03-27T06:34:22.306Z"
   },
   {
    "duration": 132,
    "start_time": "2022-03-27T06:34:25.095Z"
   },
   {
    "duration": 1221,
    "start_time": "2022-03-27T06:34:41.827Z"
   },
   {
    "duration": 4,
    "start_time": "2022-03-27T06:34:43.050Z"
   },
   {
    "duration": 7538,
    "start_time": "2022-03-27T06:34:43.063Z"
   },
   {
    "duration": 194,
    "start_time": "2022-03-27T06:34:50.603Z"
   },
   {
    "duration": 14,
    "start_time": "2022-03-27T06:34:50.798Z"
   },
   {
    "duration": 93,
    "start_time": "2022-03-27T06:34:50.814Z"
   },
   {
    "duration": 234,
    "start_time": "2022-03-27T06:34:50.909Z"
   },
   {
    "duration": 153,
    "start_time": "2022-03-27T06:34:51.145Z"
   },
   {
    "duration": 2,
    "start_time": "2022-03-27T06:34:51.300Z"
   },
   {
    "duration": 155,
    "start_time": "2022-03-27T06:34:51.305Z"
   },
   {
    "duration": 3,
    "start_time": "2022-03-27T06:34:51.462Z"
   },
   {
    "duration": 1319,
    "start_time": "2022-03-27T06:34:51.466Z"
   },
   {
    "duration": 87,
    "start_time": "2022-03-27T06:34:52.787Z"
   },
   {
    "duration": 69,
    "start_time": "2022-03-27T06:34:52.876Z"
   },
   {
    "duration": 2,
    "start_time": "2022-03-27T06:34:52.947Z"
   },
   {
    "duration": 1120,
    "start_time": "2022-03-27T06:34:52.951Z"
   },
   {
    "duration": 334,
    "start_time": "2022-03-27T06:34:54.072Z"
   },
   {
    "duration": 395,
    "start_time": "2022-03-27T06:34:54.408Z"
   },
   {
    "duration": 3,
    "start_time": "2022-03-27T06:34:54.804Z"
   },
   {
    "duration": 145,
    "start_time": "2022-03-27T06:34:54.808Z"
   },
   {
    "duration": 154,
    "start_time": "2022-03-27T06:34:54.954Z"
   },
   {
    "duration": 124,
    "start_time": "2022-03-27T06:34:55.110Z"
   },
   {
    "duration": 167,
    "start_time": "2022-03-27T06:35:54.744Z"
   },
   {
    "duration": 1881,
    "start_time": "2022-03-27T10:40:03.495Z"
   },
   {
    "duration": 6,
    "start_time": "2022-03-27T10:40:07.916Z"
   },
   {
    "duration": 4882,
    "start_time": "2022-03-27T10:40:11.400Z"
   },
   {
    "duration": 247,
    "start_time": "2022-03-27T10:40:18.068Z"
   },
   {
    "duration": 413,
    "start_time": "2022-03-27T10:40:37.642Z"
   },
   {
    "duration": 161,
    "start_time": "2022-03-27T10:41:14.253Z"
   },
   {
    "duration": 145,
    "start_time": "2022-03-27T10:41:55.125Z"
   },
   {
    "duration": 166,
    "start_time": "2022-03-27T10:42:15.982Z"
   },
   {
    "duration": 87,
    "start_time": "2022-03-27T10:42:50.209Z"
   },
   {
    "duration": 62,
    "start_time": "2022-03-27T10:43:09.662Z"
   },
   {
    "duration": 175,
    "start_time": "2022-03-27T10:44:04.954Z"
   },
   {
    "duration": 332,
    "start_time": "2022-03-27T10:45:16.630Z"
   },
   {
    "duration": 931,
    "start_time": "2022-03-27T10:45:22.405Z"
   },
   {
    "duration": 95,
    "start_time": "2022-03-27T10:46:26.314Z"
   },
   {
    "duration": 225,
    "start_time": "2022-03-27T10:46:40.690Z"
   },
   {
    "duration": 137,
    "start_time": "2022-03-27T10:47:31.782Z"
   },
   {
    "duration": 100,
    "start_time": "2022-03-28T10:43:33.446Z"
   },
   {
    "duration": 91,
    "start_time": "2022-03-28T10:43:48.048Z"
   }
  ],
  "colab": {
   "name": "AdvansedSQLProjectTemplate.ipynb",
   "provenance": []
  },
  "kernelspec": {
   "display_name": "Python 3 (ipykernel)",
   "language": "python",
   "name": "python3"
  },
  "language_info": {
   "codemirror_mode": {
    "name": "ipython",
    "version": 3
   },
   "file_extension": ".py",
   "mimetype": "text/x-python",
   "name": "python",
   "nbconvert_exporter": "python",
   "pygments_lexer": "ipython3",
   "version": "3.9.12"
  },
  "toc": {
   "base_numbering": 1,
   "nav_menu": {},
   "number_sections": true,
   "sideBar": true,
   "skip_h1_title": true,
   "title_cell": "Table of Contents",
   "title_sidebar": "Contents",
   "toc_cell": false,
   "toc_position": {},
   "toc_section_display": true,
   "toc_window_display": false
  }
 },
 "nbformat": 4,
 "nbformat_minor": 1
}
